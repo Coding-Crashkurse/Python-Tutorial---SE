{
 "cells": [
  {
   "cell_type": "code",
   "execution_count": null,
   "metadata": {},
   "outputs": [],
   "source": [
    "def mytyping(name: str) -> None:\n",
    "    print(f\"hello {name}!\")"
   ]
  },
  {
   "cell_type": "code",
   "execution_count": null,
   "metadata": {},
   "outputs": [],
   "source": [
    "from abc import ABC, abstractmethod\n",
    "\n",
    "class Hero(ABC):\n",
    "    def __init__(self, name, level):\n",
    "        self.name = name\n",
    "        self._level = level\n",
    "\n",
    "    @property\n",
    "    def level(self):\n",
    "        return self._level\n",
    "\n",
    "    @level.setter\n",
    "    def level(self, new_level):\n",
    "        if new_level > self._level:\n",
    "            self._level = new_level\n",
    "        else:\n",
    "            print(f\"Invalid level: {new_level}. Must be greater than current level {self._level}.\")\n",
    "\n",
    "    @abstractmethod\n",
    "    def describe(self):\n",
    "        pass\n",
    "\n",
    "    def __str__(self):\n",
    "        return self.describe()\n",
    "\n",
    "    def __add__(self, other):\n",
    "        return Hero(f\"{self.name}&{other.name}\", self.level + other.level)\n"
   ]
  },
  {
   "cell_type": "code",
   "execution_count": null,
   "metadata": {},
   "outputs": [],
   "source": [
    "from abc import ABC, abstractmethod\n",
    "from typing import TypeVar\n",
    "\n",
    "HeroType = TypeVar('HeroType', bound='Hero')\n",
    "\n",
    "class Hero(ABC):\n",
    "    def __init__(self, name: str, level: int) -> None:\n",
    "        self.name: str = name\n",
    "        self._level: int = level\n",
    "\n",
    "    @property\n",
    "    def level(self) -> int:\n",
    "        return self._level\n",
    "\n",
    "    @level.setter\n",
    "    def level(self, new_level: int) -> None:\n",
    "        if new_level > self._level:\n",
    "            self._level = new_level\n",
    "        else:\n",
    "            print(f\"Invalid level: {new_level}. Must be greater than current level {self._level}.\")\n",
    "\n",
    "    @abstractmethod\n",
    "    def describe(self) -> str:\n",
    "        pass\n",
    "\n",
    "    def __str__(self) -> str:\n",
    "        return self.describe()\n",
    "\n",
    "    def __add__(self, other: HeroType) -> HeroType:\n",
    "        return Hero(f\"{self.name}&{other.name}\", self.level + other.level)\n"
   ]
  },
  {
   "cell_type": "code",
   "execution_count": null,
   "metadata": {},
   "outputs": [],
   "source": [
    "class Team:\n",
    "    def __init__(self, heroes: list[Hero]) -> None:\n",
    "        self.heroes: list[Hero] = heroes\n",
    "\n",
    "    def describe(self) -> None:\n",
    "        for hero in self.heroes:\n",
    "            print(hero.describe())\n"
   ]
  }
 ],
 "metadata": {
  "language_info": {
   "name": "python"
  },
  "orig_nbformat": 4
 },
 "nbformat": 4,
 "nbformat_minor": 2
}
