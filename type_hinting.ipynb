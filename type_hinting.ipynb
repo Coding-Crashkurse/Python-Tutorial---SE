{
 "cells": [
  {
   "cell_type": "markdown",
   "metadata": {},
   "source": [
    "#### Typing Hinting - Reasons to use Type Hints:\n",
    "\n",
    "Readability: Type hints make the code self-explanatory. By looking at the function signature, one can immediately understand the types of arguments and return values, making the code easier to understand.\n",
    "\n",
    "Tooling Support: IDEs and editors utilize type hints for better autocompletion, error checking, and refactoring support. This leads to a more productive development environment.\n",
    "\n",
    "Static Analysis: Tools like mypy can statically analyze your code to catch type errors before runtime, reducing the risk of type-related bugs.\n",
    "\n",
    "Code Quality: Type hints implicitly serve as a form of documentation. Unlike comments, they are machine-verifiable, ensuring that they stay up-to-date as code evolves."
   ]
  },
  {
   "cell_type": "code",
   "execution_count": null,
   "metadata": {},
   "outputs": [],
   "source": [
    "def mytyping(name: str) -> None:\n",
    "    print(f\"hello {name}!\")"
   ]
  },
  {
   "cell_type": "code",
   "execution_count": null,
   "metadata": {},
   "outputs": [],
   "source": [
    "from abc import ABC, abstractmethod\n",
    "\n",
    "class Hero(ABC):\n",
    "    def __init__(self, name, level):\n",
    "        self.name = name\n",
    "        self._level = level\n",
    "\n",
    "    @property\n",
    "    def level(self):\n",
    "        return self._level\n",
    "\n",
    "    @level.setter\n",
    "    def level(self, new_level):\n",
    "        if new_level > self._level:\n",
    "            self._level = new_level\n",
    "        else:\n",
    "            print(f\"Invalid level: {new_level}. Must be greater than current level {self._level}.\")\n",
    "\n",
    "    @abstractmethod\n",
    "    def describe(self):\n",
    "        pass\n",
    "\n",
    "    def __str__(self):\n",
    "        return self.describe()\n",
    "\n",
    "    def __add__(self, other):\n",
    "        return Hero(f\"{self.name}&{other.name}\", self.level + other.level)\n"
   ]
  },
  {
   "cell_type": "code",
   "execution_count": null,
   "metadata": {},
   "outputs": [],
   "source": [
    "from abc import ABC, abstractmethod\n",
    "from typing import TypeVar\n",
    "\n",
    "HeroType = TypeVar('HeroType', bound='Hero')\n",
    "\n",
    "class Hero(ABC):\n",
    "    def __init__(self, name: str, level: int) -> None:\n",
    "        self.name: str = name\n",
    "        self._level: int = level\n",
    "\n",
    "    @property\n",
    "    def level(self) -> int:\n",
    "        return self._level\n",
    "\n",
    "    @level.setter\n",
    "    def level(self, new_level: int) -> None:\n",
    "        if new_level > self._level:\n",
    "            self._level = new_level\n",
    "        else:\n",
    "            print(f\"Invalid level: {new_level}. Must be greater than current level {self._level}.\")\n",
    "\n",
    "    @abstractmethod\n",
    "    def describe(self) -> str:\n",
    "        pass\n",
    "\n",
    "    def __str__(self) -> str:\n",
    "        return self.describe()\n",
    "\n",
    "    def __add__(self, other: HeroType) -> HeroType:\n",
    "        return Hero(f\"{self.name}&{other.name}\", self.level + other.level)\n"
   ]
  },
  {
   "cell_type": "code",
   "execution_count": 4,
   "metadata": {},
   "outputs": [],
   "source": [
    "class Team:\n",
    "    def __init__(self, heroes: list[Hero]) -> None:\n",
    "        self.heroes = heroes\n",
    "\n",
    "    def describe(self) -> None:\n",
    "        for hero in self.heroes:\n",
    "            print(hero.describe())\n"
   ]
  }
 ],
 "metadata": {
  "kernelspec": {
   "display_name": "Python 3",
   "language": "python",
   "name": "python3"
  },
  "language_info": {
   "codemirror_mode": {
    "name": "ipython",
    "version": 3
   },
   "file_extension": ".py",
   "mimetype": "text/x-python",
   "name": "python",
   "nbconvert_exporter": "python",
   "pygments_lexer": "ipython3",
   "version": "3.11.0"
  },
  "orig_nbformat": 4
 },
 "nbformat": 4,
 "nbformat_minor": 2
}
