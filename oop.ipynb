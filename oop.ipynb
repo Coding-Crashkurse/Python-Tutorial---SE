{
 "cells": [
  {
   "cell_type": "markdown",
   "metadata": {},
   "source": [
    "### 1. Classes and Objects: Meet the Heroes\n",
    "\n",
    "#### 2.1 Defining a Class: The Blueprint of a Hero\n",
    "A class is like a blueprint that defines the structure and behavior of an object. Let's create a generic Hero class that will serve as the base for our specialized heroes like archers and wizards."
   ]
  },
  {
   "cell_type": "code",
   "execution_count": 2,
   "metadata": {},
   "outputs": [],
   "source": [
    "class Hero:\n",
    "    def __init__(self, name, level):\n",
    "        self.name = name\n",
    "        self.level = level\n",
    "        \n",
    "    def describe(self):\n",
    "        return f\"{self.name}, Level {self.level} Hero\"\n"
   ]
  },
  {
   "cell_type": "markdown",
   "metadata": {},
   "source": [
    "#### 2.2 Creating Objects: Summoning Heroes\n",
    "An object is an instance of a class."
   ]
  },
  {
   "cell_type": "code",
   "execution_count": 3,
   "metadata": {},
   "outputs": [
    {
     "name": "stdout",
     "output_type": "stream",
     "text": [
      "Max, Level 5 Hero\n"
     ]
    }
   ],
   "source": [
    "hero = Hero(\"Max\", 5)\n",
    "print(hero.describe()) \n"
   ]
  },
  {
   "cell_type": "markdown",
   "metadata": {},
   "source": [
    "### 3. Inheritance\n",
    "Inheritance allows a class to inherit attributes and methods from another class. "
   ]
  },
  {
   "cell_type": "code",
   "execution_count": 4,
   "metadata": {},
   "outputs": [
    {
     "name": "stdout",
     "output_type": "stream",
     "text": [
      "Robin, Level 10 Archer\n",
      "Merlin, Level 12 Wizard\n"
     ]
    }
   ],
   "source": [
    "class Archer(Hero):\n",
    "    def describe(self):\n",
    "        return f\"{self.name}, Level {self.level} Archer\"\n",
    "\n",
    "class Wizard(Hero):\n",
    "    def describe(self):\n",
    "        return f\"{self.name}, Level {self.level} Wizard\"\n",
    "\n",
    "archer = Archer(\"Robin\", 10)\n",
    "wizard = Wizard(\"Merlin\", 12)\n",
    "\n",
    "print(archer.describe())  \n",
    "print(wizard.describe()) \n"
   ]
  },
  {
   "cell_type": "code",
   "execution_count": null,
   "metadata": {},
   "outputs": [],
   "source": [
    "class Archer(Hero):\n",
    "    def __init__(self, name, level, arrow_count):\n",
    "        super().__init__(name, level) \n",
    "        self.arrow_count = arrow_count\n",
    "\n",
    "    def describe(self):\n",
    "        return f\"{super().describe()}, Arrows: {self.arrow_count}\"\n",
    "\n",
    "class Wizard(Hero):\n",
    "    def __init__(self, name, level, spell_count):\n",
    "        super().__init__(name, level) \n",
    "        self.spell_count = spell_count\n",
    "\n",
    "    def describe(self):\n",
    "        return f\"{super().describe()}, Spells: {self.spell_count}\"\n"
   ]
  },
  {
   "cell_type": "code",
   "execution_count": null,
   "metadata": {},
   "outputs": [],
   "source": [
    "archer = Archer(\"Robin\", 10, 20)\n",
    "wizard = Wizard(\"Merlin\", 12, 5)\n",
    "\n",
    "print(archer.describe())\n",
    "print(wizard.describe()) \n"
   ]
  },
  {
   "cell_type": "markdown",
   "metadata": {},
   "source": [
    "### Private Attributes, getters and setters"
   ]
  },
  {
   "cell_type": "code",
   "execution_count": 6,
   "metadata": {},
   "outputs": [
    {
     "name": "stdout",
     "output_type": "stream",
     "text": [
      "Getter used\n",
      "5\n",
      "Invalid level: 3. Must be greater than current level 5.\n"
     ]
    }
   ],
   "source": [
    "class Hero:\n",
    "    def __init__(self, name, level):\n",
    "        self.name = name\n",
    "        self._level = level\n",
    "\n",
    "    @property\n",
    "    def level(self):\n",
    "        print(\"Getter used\")\n",
    "        return self._level\n",
    "\n",
    "    @level.setter\n",
    "    def level(self, new_level):\n",
    "        if new_level > self._level:\n",
    "            self._level = new_level\n",
    "        else:\n",
    "            print(f\"Invalid level: {new_level}. Must be greater than current level {self._level}.\")\n",
    "\n",
    "    def describe(self):\n",
    "        return f\"{self.name}, Level {self.level} Hero\"\n",
    "    \n",
    "hero1 = Hero(\"Merlin\", 5)\n",
    "print(hero1.level)\n",
    "print(hero1._level)\n",
    "hero1.level = 3\n"
   ]
  }
 ],
 "metadata": {
  "kernelspec": {
   "display_name": "Python 3",
   "language": "python",
   "name": "python3"
  },
  "language_info": {
   "codemirror_mode": {
    "name": "ipython",
    "version": 3
   },
   "file_extension": ".py",
   "mimetype": "text/x-python",
   "name": "python",
   "nbconvert_exporter": "python",
   "pygments_lexer": "ipython3",
   "version": "3.11.0"
  },
  "orig_nbformat": 4
 },
 "nbformat": 4,
 "nbformat_minor": 2
}
