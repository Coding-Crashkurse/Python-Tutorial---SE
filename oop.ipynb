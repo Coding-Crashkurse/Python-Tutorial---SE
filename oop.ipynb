{
 "cells": [
  {
   "cell_type": "markdown",
   "metadata": {},
   "source": [
    "### 1. Classes and Objects: Meet the Heroes\n",
    "\n",
    "#### 2.1 Defining a Class: The Blueprint of a Hero\n",
    "A class is like a blueprint that defines the structure and behavior of an object. Let's create a generic Hero class that will serve as the base for our specialized heroes like archers and wizards."
   ]
  },
  {
   "cell_type": "code",
   "execution_count": null,
   "metadata": {},
   "outputs": [],
   "source": [
    "class Hero:\n",
    "    def __init__(self, name, level):\n",
    "        self.name = name\n",
    "        self.level = level\n",
    "        \n",
    "    def describe(self):\n",
    "        return f\"{self.name}, Level {self.level} Hero\"\n"
   ]
  },
  {
   "cell_type": "markdown",
   "metadata": {},
   "source": [
    "#### 2.2 Creating Objects: Summoning Heroes\n",
    "An object is an instance of a class."
   ]
  },
  {
   "cell_type": "code",
   "execution_count": null,
   "metadata": {},
   "outputs": [],
   "source": [
    "hero = Hero(\"Max\", 5)\n",
    "print(hero.name)\n",
    "print(hero.describe()) \n"
   ]
  },
  {
   "cell_type": "markdown",
   "metadata": {},
   "source": [
    "#### Dive deeper into the internals of classes and instances"
   ]
  },
  {
   "cell_type": "code",
   "execution_count": null,
   "metadata": {},
   "outputs": [],
   "source": [
    "class Hero:\n",
    "\n",
    "    weight = 100\n",
    "\n",
    "    def __init__(self, name, level):\n",
    "        self.name = name\n",
    "        self.level = level\n",
    "        \n",
    "    def describe(self):\n",
    "        return f\"{self.name}, Level {self.level} Hero\"\n",
    "\n",
    "hero1 = Hero(\"Merlin\", 10)"
   ]
  },
  {
   "cell_type": "code",
   "execution_count": null,
   "metadata": {},
   "outputs": [],
   "source": [
    "Hero.__dict__"
   ]
  },
  {
   "cell_type": "code",
   "execution_count": null,
   "metadata": {},
   "outputs": [],
   "source": [
    "hero1.__dict__"
   ]
  },
  {
   "cell_type": "code",
   "execution_count": null,
   "metadata": {},
   "outputs": [],
   "source": [
    "print(hero1.weight)"
   ]
  },
  {
   "cell_type": "code",
   "execution_count": null,
   "metadata": {},
   "outputs": [],
   "source": [
    "hero1.__class__.__dict__ # Just for demonstration, never use code like this ;-)"
   ]
  },
  {
   "cell_type": "markdown",
   "metadata": {},
   "source": [
    "### 3. Inheritance\n",
    "Inheritance allows a class to inherit attributes and methods from another class. "
   ]
  },
  {
   "cell_type": "code",
   "execution_count": null,
   "metadata": {},
   "outputs": [],
   "source": [
    "class Archer(Hero):\n",
    "    def describe(self):\n",
    "        return f\"{self.name}, Level {self.level} Archer\"\n",
    "\n",
    "class Wizard(Hero):\n",
    "    def describe(self):\n",
    "        return f\"{self.name}, Level {self.level} Wizard\"\n",
    "\n",
    "archer = Archer(\"Robin\", 10)\n",
    "wizard = Wizard(\"Merlin\", 12)\n",
    "\n",
    "print(archer.describe())  \n",
    "print(wizard.describe()) \n"
   ]
  },
  {
   "cell_type": "markdown",
   "metadata": {},
   "source": [
    "Using `super()` to call methods of the parent class"
   ]
  },
  {
   "cell_type": "code",
   "execution_count": null,
   "metadata": {},
   "outputs": [],
   "source": [
    "class Archer(Hero):\n",
    "    def __init__(self, name, level, arrow_count):\n",
    "        super().__init__(name, level) \n",
    "        self.arrow_count = arrow_count\n",
    "\n",
    "    def describe(self):\n",
    "        return f\"{super().describe()}, Arrows: {self.arrow_count}\"\n",
    "\n",
    "class Wizard(Hero):\n",
    "    def __init__(self, name, level, spell_count):\n",
    "        super().__init__(name, level) \n",
    "        self.spell_count = spell_count\n",
    "\n",
    "    def describe(self):\n",
    "        return f\"{super().describe()}, Spells: {self.spell_count}\"\n"
   ]
  },
  {
   "cell_type": "code",
   "execution_count": null,
   "metadata": {},
   "outputs": [],
   "source": [
    "archer = Archer(\"Robin\", 10, 20)\n",
    "wizard = Wizard(\"Merlin\", 12, 5)\n",
    "\n",
    "print(archer.describe())\n",
    "print(wizard.describe()) \n"
   ]
  },
  {
   "cell_type": "markdown",
   "metadata": {},
   "source": [
    "### Private Attributes, getters and setters"
   ]
  },
  {
   "cell_type": "code",
   "execution_count": null,
   "metadata": {},
   "outputs": [],
   "source": [
    "class Hero:\n",
    "    def __init__(self, name, level):\n",
    "        self.name = name\n",
    "        self._level = level\n",
    "\n",
    "    @property\n",
    "    def level(self):\n",
    "        print(\"Getter used\")\n",
    "        return self._level\n",
    "\n",
    "    @level.setter\n",
    "    def level(self, new_level):\n",
    "        if new_level > self._level:\n",
    "            self._level = new_level\n",
    "        else:\n",
    "            print(f\"Invalid level: {new_level}. Must be greater than current level {self._level}.\")\n",
    "\n",
    "    def describe(self):\n",
    "        return f\"{self.name}, Level {self.level} Hero\"\n",
    "    \n",
    "hero1 = Hero(\"Merlin\", 5)\n",
    "print(hero1.level)\n",
    "print(hero1._level)\n",
    "hero1.level = 3\n"
   ]
  },
  {
   "cell_type": "markdown",
   "metadata": {},
   "source": [
    "#### Dunder methods"
   ]
  },
  {
   "cell_type": "code",
   "execution_count": null,
   "metadata": {},
   "outputs": [],
   "source": [
    "class Hero:\n",
    "    def __init__(self, name, level):\n",
    "        self.name = name\n",
    "        self._level = level\n",
    "\n",
    "    @property\n",
    "    def level(self):\n",
    "        print(\"Getter used\")\n",
    "        return self._level\n",
    "\n",
    "    @level.setter\n",
    "    def level(self, new_level):\n",
    "        if new_level > self._level:\n",
    "            self._level = new_level\n",
    "        else:\n",
    "            print(f\"Invalid level: {new_level}. Must be greater than current level {self._level}.\")\n",
    "\n",
    "    def describe(self):\n",
    "        return f\"{self.name}, Level {self.level} Hero\"\n",
    "\n",
    "    def __str__(self):\n",
    "        return f\"{self.name}, Level {self._level} Hero\"\n",
    "    \n",
    "    def __add__(self, other):\n",
    "        return Hero(f\"{self.name}&{other.name}\", self.level + other.level)"
   ]
  },
  {
   "cell_type": "code",
   "execution_count": null,
   "metadata": {},
   "outputs": [],
   "source": [
    "hero1 = Hero(\"Merlin\", 5)\n",
    "hero2 = Hero(\"Melchor\", 5)\n",
    "print(hero1)\n",
    "print(hero2)\n",
    "print(hero1 + hero2)"
   ]
  },
  {
   "cell_type": "markdown",
   "metadata": {},
   "source": [
    "We have to create the subclasses again to be able to use the dunder methods from inside the childclass"
   ]
  },
  {
   "cell_type": "code",
   "execution_count": null,
   "metadata": {},
   "outputs": [],
   "source": [
    "class Archer(Hero):\n",
    "    def __init__(self, name, level, arrow_count):\n",
    "        super().__init__(name, level) \n",
    "        self.arrow_count = arrow_count\n",
    "\n",
    "    def describe(self):\n",
    "        return f\"{super().describe()}, Arrows: {self.arrow_count}\"\n",
    "\n",
    "class Wizard(Hero):\n",
    "    def __init__(self, name, level, spell_count):\n",
    "        super().__init__(name, level) \n",
    "        self.spell_count = spell_count\n",
    "\n",
    "    def describe(self):\n",
    "        return f\"{super().describe()}, Spells: {self.spell_count}\""
   ]
  },
  {
   "cell_type": "code",
   "execution_count": null,
   "metadata": {},
   "outputs": [],
   "source": [
    "class Team:\n",
    "    def __init__(self, *heroes):\n",
    "        self.heroes = heroes\n",
    "\n",
    "    def describe(self):\n",
    "        for hero in self.heroes:\n",
    "            print(hero.describe())\n",
    "\n"
   ]
  },
  {
   "cell_type": "code",
   "execution_count": null,
   "metadata": {},
   "outputs": [],
   "source": [
    "archer = Archer(\"Robin\", 10, 20)\n",
    "wizard = Wizard(\"Merlin\", 12, 5)\n",
    "\n",
    "team = Team(archer, wizard)\n",
    "\n",
    "team.describe()"
   ]
  },
  {
   "cell_type": "markdown",
   "metadata": {},
   "source": [
    "#### Abstract Classes and methods"
   ]
  },
  {
   "cell_type": "code",
   "execution_count": null,
   "metadata": {},
   "outputs": [],
   "source": [
    "from abc import ABC, abstractmethod\n",
    "\n",
    "class Hero(ABC):\n",
    "    def __init__(self, name, level):\n",
    "        self.name = name\n",
    "        self._level = level\n",
    "\n",
    "    @property\n",
    "    def level(self):\n",
    "        return self._level\n",
    "\n",
    "    @level.setter\n",
    "    def level(self, new_level):\n",
    "        if new_level > self._level:\n",
    "            self._level = new_level\n",
    "        else:\n",
    "            print(f\"Invalid level: {new_level}. Must be greater than current level {self._level}.\")\n",
    "\n",
    "    @abstractmethod\n",
    "    def describe(self):\n",
    "        pass\n",
    "\n",
    "    def __str__(self):\n",
    "        return self.describe()\n",
    "\n",
    "    def __add__(self, other):\n",
    "        return Hero(f\"{self.name}&{other.name}\", self.level + other.level)\n"
   ]
  },
  {
   "cell_type": "code",
   "execution_count": null,
   "metadata": {},
   "outputs": [],
   "source": [
    "class Archer(Hero):\n",
    "    def describe_fail(self):\n",
    "        return \"fail\"\n",
    "\n",
    "archer1 = Archer(\"Merlin\", 5)"
   ]
  },
  {
   "cell_type": "code",
   "execution_count": null,
   "metadata": {},
   "outputs": [],
   "source": [
    "class Archer(Hero):\n",
    "    def describe(self):\n",
    "        return f\"{self.name}, Level {self.level} Archer\"\n",
    "\n",
    "archer1 = Archer(\"Merlin\", 5)\n",
    "archer1"
   ]
  }
 ],
 "metadata": {
  "kernelspec": {
   "display_name": "Python 3",
   "language": "python",
   "name": "python3"
  },
  "language_info": {
   "codemirror_mode": {
    "name": "ipython",
    "version": 3
   },
   "file_extension": ".py",
   "mimetype": "text/x-python",
   "name": "python",
   "nbconvert_exporter": "python",
   "pygments_lexer": "ipython3",
   "version": "3.11.0"
  },
  "orig_nbformat": 4
 },
 "nbformat": 4,
 "nbformat_minor": 2
}
