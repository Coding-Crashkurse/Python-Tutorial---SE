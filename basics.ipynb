{
 "cells": [
  {
   "cell_type": "markdown",
   "metadata": {},
   "source": [
    "### 1. Basic Syntax\n",
    "\n",
    "Python is a widely used high-level programming language with a clean and readable syntax. Here are some basic concepts:\n",
    "\n",
    "- Indentation: Python uses whitespace indentation to define code blocks.\n",
    "- Comments: Use the '#' symbol to write comments.\n",
    "- Print Statement: Use the `print` function to print to the console.\n"
   ]
  },
  {
   "cell_type": "code",
   "execution_count": null,
   "metadata": {},
   "outputs": [],
   "source": [
    "# This is a comment\n",
    "print(\"Hello, World!\")"
   ]
  },
  {
   "cell_type": "markdown",
   "metadata": {},
   "source": [
    "### 2. Variables and Data Types\n",
    "\n",
    "In Python, variables are created when you assign a value to them. Here are the primary data types:\n",
    "\n",
    "- Integers\n",
    "- Floats\n",
    "- Strings\n",
    "- Booleans\n"
   ]
  },
  {
   "cell_type": "code",
   "execution_count": null,
   "metadata": {},
   "outputs": [],
   "source": [
    "x = 5           # Integer\n",
    "y = 5.0         # Float\n",
    "name = \"John\"   # String\n",
    "is_active = True # Boolean\n"
   ]
  },
  {
   "cell_type": "markdown",
   "metadata": {},
   "source": [
    "### 3. Conditionals\n",
    "\n",
    "Python supports the usual logical conditions:\n",
    "\n",
    "- Equals: `a == b`\n",
    "- Not Equals: `a != b`\n",
    "- Less than: `a < b`\n",
    "\n",
    "You can use `if` statements to decide which code to be executed if a condition is `true` of `false`\n",
    "\n",
    "\n"
   ]
  },
  {
   "cell_type": "code",
   "execution_count": null,
   "metadata": {},
   "outputs": [],
   "source": [
    "age = 18\n",
    "if age >= 18:\n",
    "    print(\"Adult\")\n",
    "else:\n",
    "    print(\"Minor\")\n"
   ]
  },
  {
   "cell_type": "markdown",
   "metadata": {},
   "source": [
    "### 4. Loops\n",
    "\n",
    "Python has two primitive loop commands:\n",
    "\n",
    "- `for` loops\n",
    "- `while` loops\n"
   ]
  },
  {
   "cell_type": "code",
   "execution_count": null,
   "metadata": {},
   "outputs": [],
   "source": [
    "# For loop\n",
    "for i in range(5):\n",
    "    print(i)\n",
    "\n",
    "# While loop\n",
    "i = 0\n",
    "while i < 5:\n",
    "    print(i)\n",
    "    i += 1\n"
   ]
  },
  {
   "cell_type": "markdown",
   "metadata": {},
   "source": [
    "### 5. Type Casting\n",
    "\n",
    "Type casting means converting one data type to another. Here's how you can do it in Python:\n"
   ]
  },
  {
   "cell_type": "code",
   "execution_count": null,
   "metadata": {},
   "outputs": [],
   "source": [
    "x = float(5)    # Converts integer to float\n",
    "y = int(5.0)    # Converts float to integer\n",
    "z = str(5)      # Converts integer to string\n",
    "z\n"
   ]
  },
  {
   "cell_type": "markdown",
   "metadata": {},
   "source": [
    "### 6. Exceptions\n",
    "\n",
    "Exceptions are events that occur during code execution, usually when something goes wrong. Python provides a way to handle exceptions using `try` and `except` blocks. "
   ]
  },
  {
   "cell_type": "code",
   "execution_count": null,
   "metadata": {},
   "outputs": [],
   "source": [
    "10 / 0"
   ]
  },
  {
   "cell_type": "code",
   "execution_count": 1,
   "metadata": {},
   "outputs": [
    {
     "name": "stdout",
     "output_type": "stream",
     "text": [
      "Cannot divide by zero\n"
     ]
    }
   ],
   "source": [
    "try:\n",
    "    result = 10 / 0\n",
    "except ZeroDivisionError:\n",
    "    print(\"Cannot divide by zero\")\n"
   ]
  },
  {
   "cell_type": "code",
   "execution_count": 4,
   "metadata": {},
   "outputs": [
    {
     "name": "stdout",
     "output_type": "stream",
     "text": [
      "Error raised from trying to devide by zero\n"
     ]
    },
    {
     "ename": "ZeroDivisionError",
     "evalue": "Cannot divide by zero",
     "output_type": "error",
     "traceback": [
      "\u001b[1;31m---------------------------------------------------------------------------\u001b[0m",
      "\u001b[1;31mZeroDivisionError\u001b[0m                         Traceback (most recent call last)",
      "Cell \u001b[1;32mIn[4], line 2\u001b[0m\n\u001b[0;32m      1\u001b[0m \u001b[39mtry\u001b[39;00m:\n\u001b[1;32m----> 2\u001b[0m     result \u001b[39m=\u001b[39m \u001b[39m10\u001b[39;49m \u001b[39m/\u001b[39;49m \u001b[39m0\u001b[39;49m\n\u001b[0;32m      3\u001b[0m \u001b[39mexcept\u001b[39;00m \u001b[39mZeroDivisionError\u001b[39;00m:\n",
      "\u001b[1;31mZeroDivisionError\u001b[0m: division by zero",
      "\nDuring handling of the above exception, another exception occurred:\n",
      "\u001b[1;31mZeroDivisionError\u001b[0m                         Traceback (most recent call last)",
      "Cell \u001b[1;32mIn[4], line 5\u001b[0m\n\u001b[0;32m      3\u001b[0m \u001b[39mexcept\u001b[39;00m \u001b[39mZeroDivisionError\u001b[39;00m:\n\u001b[0;32m      4\u001b[0m     \u001b[39mprint\u001b[39m(\u001b[39m\"\u001b[39m\u001b[39mError raised from trying to devide by zero\u001b[39m\u001b[39m\"\u001b[39m)\n\u001b[1;32m----> 5\u001b[0m     \u001b[39mraise\u001b[39;00m \u001b[39mZeroDivisionError\u001b[39;00m(\u001b[39m\"\u001b[39m\u001b[39mCannot divide by zero\u001b[39m\u001b[39m\"\u001b[39m)\n",
      "\u001b[1;31mZeroDivisionError\u001b[0m: Cannot divide by zero"
     ]
    }
   ],
   "source": [
    "try:\n",
    "    result = 10 / 0\n",
    "except ZeroDivisionError:\n",
    "    print(\"Error raised from trying to devide by zero\")\n",
    "    raise ZeroDivisionError(\"Cannot divide by zero\")"
   ]
  },
  {
   "cell_type": "markdown",
   "metadata": {},
   "source": [
    "### 7. Functions and Built-in Functions\n",
    "\n",
    "Functions in Python are defined using the `def` keyword. There are also many built-in functions provided by Python."
   ]
  },
  {
   "cell_type": "code",
   "execution_count": null,
   "metadata": {},
   "outputs": [],
   "source": [
    "# Using a built-in function\n",
    "length = len(\"Python\")\n",
    "length"
   ]
  },
  {
   "cell_type": "code",
   "execution_count": null,
   "metadata": {},
   "outputs": [],
   "source": [
    "# Custom function\n",
    "def greet(name):\n",
    "    return f\"Hello, {name}!\"\n",
    "\n",
    "greet(\"Max\")"
   ]
  },
  {
   "cell_type": "code",
   "execution_count": null,
   "metadata": {},
   "outputs": [],
   "source": [
    "def greet(name, greeting=\"Hello\"):\n",
    "    return f\"{greeting}, {name}!\"\n",
    "\n",
    "print(greet(\"Max\"))\n",
    "print(greet(\"Max\", greeting=\"Hi\"))\n"
   ]
  },
  {
   "cell_type": "code",
   "execution_count": null,
   "metadata": {},
   "outputs": [],
   "source": [
    "def greet(*names, greeting=\"Hello\"):\n",
    "    for name in names:\n",
    "        print(f\"{greeting}, {name}!\")\n",
    "\n",
    "greet(\"Max\", \"Anna\", \"John\")\n",
    "greet(\"Alice\", \"Bob\", greeting=\"Welcome\")"
   ]
  },
  {
   "cell_type": "code",
   "execution_count": null,
   "metadata": {},
   "outputs": [],
   "source": [
    "def greet(*names, greeting=\"Hello\", **extra_greetings):\n",
    "    for name in names:\n",
    "        print(f\"{greeting}, {name}!\")\n",
    "    for name, personal_greeting in extra_greetings.items():\n",
    "        print(f\"{personal_greeting}, {name}!\")\n",
    "\n",
    "greet(\"Max\", \"Anna\", \"John\", greeting=\"Hi\", Alice=\"Welcome\", Bob=\"Good day\")"
   ]
  },
  {
   "cell_type": "markdown",
   "metadata": {},
   "source": [
    "### 8. Lists, Tuples, Sets, Dictionaries\n",
    "\n",
    "Python has four collection data types:\n",
    "\n",
    "- List: Ordered and changeable.\n",
    "- Tuple: Ordered and unchangeable.\n",
    "- Set: Unordered and unindexed, only unique values\n",
    "- Dictionary: Unordered, changeable, and indexed by keys."
   ]
  },
  {
   "cell_type": "code",
   "execution_count": null,
   "metadata": {},
   "outputs": [],
   "source": [
    "my_list = [1, 2, 3]\n",
    "my_list.append(4)           # Add an element to the end\n",
    "my_list[2] = 0              # Modify an existing element\n",
    "print(my_list)              # Output: [1, 2, 0, 4]\n"
   ]
  },
  {
   "cell_type": "code",
   "execution_count": null,
   "metadata": {},
   "outputs": [],
   "source": [
    "my_tuple = (1, 2, 3)\n",
    "# my_tuple[2] = 0          # This would result in a TypeError\n",
    "print(my_tuple[1])          # Access an element; Output: 2\n"
   ]
  },
  {
   "cell_type": "code",
   "execution_count": null,
   "metadata": {},
   "outputs": [],
   "source": [
    "my_set = {1, 2, 3, 3}\n",
    "print(my_set)             \n",
    "my_set.add(4)           \n",
    "my_set.remove(1)           \n",
    "print(my_set)               "
   ]
  },
  {
   "cell_type": "code",
   "execution_count": null,
   "metadata": {},
   "outputs": [],
   "source": [
    "x = [1,2,3,2,3,3,3,2]\n",
    "y = list(set(x))\n",
    "y"
   ]
  },
  {
   "cell_type": "code",
   "execution_count": null,
   "metadata": {},
   "outputs": [],
   "source": [
    "my_dict = {\"name\": \"John\", \"age\": 30}\n",
    "my_dict[\"email\"] = \"john@example.com\"  \n",
    "my_dict[\"age\"] = 31                    \n",
    "print(my_dict[\"name\"])               "
   ]
  },
  {
   "cell_type": "code",
   "execution_count": null,
   "metadata": {},
   "outputs": [],
   "source": [
    "keys = my_dict.keys()\n",
    "print(keys)  "
   ]
  },
  {
   "cell_type": "code",
   "execution_count": null,
   "metadata": {},
   "outputs": [],
   "source": [
    "values = my_dict.values()\n",
    "print(values) "
   ]
  },
  {
   "cell_type": "code",
   "execution_count": null,
   "metadata": {},
   "outputs": [],
   "source": [
    "items = my_dict.items()\n",
    "print(items)  \n"
   ]
  },
  {
   "cell_type": "code",
   "execution_count": null,
   "metadata": {},
   "outputs": [],
   "source": [
    "email = my_dict.pop(\"email\")\n",
    "print(email) \n"
   ]
  },
  {
   "cell_type": "code",
   "execution_count": null,
   "metadata": {},
   "outputs": [],
   "source": [
    "my_dict.clear()\n",
    "print(my_dict)\n"
   ]
  },
  {
   "cell_type": "markdown",
   "metadata": {},
   "source": [
    "### 9. List Comprehensions, Generator Expressions\n",
    "\n",
    "List comprehensions provide a concise way to create lists. Generator expressions are similar but yield items one at a time and are more memory efficient."
   ]
  },
  {
   "cell_type": "code",
   "execution_count": null,
   "metadata": {},
   "outputs": [],
   "source": [
    "# List comprehension\n",
    "squares = [x**2 for x in range(10)]\n",
    "squares\n",
    "\n"
   ]
  },
  {
   "cell_type": "code",
   "execution_count": null,
   "metadata": {},
   "outputs": [],
   "source": [
    "# Generator expression\n",
    "squares_gen = (x**2 for x in range(10))\n",
    "squares_gen\n"
   ]
  },
  {
   "cell_type": "code",
   "execution_count": null,
   "metadata": {},
   "outputs": [],
   "source": [
    "next(iter(squares_gen))"
   ]
  },
  {
   "cell_type": "code",
   "execution_count": null,
   "metadata": {},
   "outputs": [],
   "source": [
    "def gen(n):\n",
    "    for i in range(n):\n",
    "        yield i"
   ]
  },
  {
   "cell_type": "markdown",
   "metadata": {},
   "source": [
    "### 10. Lambdas\n",
    "\n",
    "A lambda function is a small anonymous function. It can have any number of arguments but only one expression."
   ]
  },
  {
   "cell_type": "code",
   "execution_count": null,
   "metadata": {},
   "outputs": [],
   "source": [
    "multiply = lambda a, b: a * b\n",
    "result = multiply(5, 6)\n",
    "result"
   ]
  },
  {
   "cell_type": "markdown",
   "metadata": {},
   "source": [
    "### 11 Decorators\n",
    "\n",
    "Decorators provide a way to modify functions using other functions. This is powerful for extending the functionality of your code.\n"
   ]
  },
  {
   "cell_type": "code",
   "execution_count": null,
   "metadata": {},
   "outputs": [],
   "source": [
    "def my_decorator(func):\n",
    "    def wrapper():\n",
    "        print(\"Something is happening before the function is called.\")\n",
    "        func()\n",
    "        print(\"Something is happening after the function is called.\")\n",
    "    return wrapper\n",
    "\n",
    "def say_hello():\n",
    "    print(\"Hello!\")\n",
    "\n",
    "decorated_say_hello = my_decorator(say_hello)\n",
    "decorated_say_hello()\n"
   ]
  },
  {
   "cell_type": "code",
   "execution_count": null,
   "metadata": {},
   "outputs": [],
   "source": [
    "@my_decorator\n",
    "def say_hello():\n",
    "    print(\"Hello!\")\n",
    "\n",
    "say_hello()"
   ]
  },
  {
   "cell_type": "markdown",
   "metadata": {},
   "source": [
    "Using args and kwargs allow the decorator the be dynamic"
   ]
  },
  {
   "cell_type": "code",
   "execution_count": null,
   "metadata": {},
   "outputs": [],
   "source": [
    "def timer(func):\n",
    "    import time\n",
    "    def wrapper(*args, **kwargs):\n",
    "        start = time.time()\n",
    "        result = func(*args, **kwargs)\n",
    "        end = time.time()\n",
    "        print(f\"Elapsed time: {end - start} seconds\")\n",
    "        return result\n",
    "    return wrapper\n",
    "\n",
    "@timer\n",
    "def slow_function():\n",
    "    import time\n",
    "    time.sleep(2)\n",
    "    print(\"Function finished\")\n",
    "\n",
    "slow_function()\n"
   ]
  },
  {
   "cell_type": "markdown",
   "metadata": {},
   "source": [
    "### 12 Regex\n",
    "\n",
    "Regular Expressions (Regex) are used for searching, matching, and manipulating strings. Python's `re` module provides support for working with Regex.\n"
   ]
  },
  {
   "cell_type": "code",
   "execution_count": null,
   "metadata": {},
   "outputs": [],
   "source": [
    "import re\n",
    "\n",
    "re.search(r'apple', 'this is an apple')\n"
   ]
  },
  {
   "cell_type": "code",
   "execution_count": null,
   "metadata": {},
   "outputs": [],
   "source": [
    "import re\n",
    "\n",
    "pattern = re.search(r'\\d+')\n",
    "matches = pattern.findall('123 abc 456 def')\n",
    "matches\n"
   ]
  },
  {
   "cell_type": "code",
   "execution_count": null,
   "metadata": {},
   "outputs": [],
   "source": [
    "import re\n",
    "\n",
    "def has_uppercase(input_string):\n",
    "    if re.search(r'[A-Z]', input_string):\n",
    "        return True\n",
    "    return False\n",
    "\n",
    "string = \"Hello World!\"\n",
    "if has_uppercase(string):\n",
    "    print(\"The string contains uppercase letter(s).\")\n",
    "else:\n",
    "    print(\"The string does not contain uppercase letter(s).\")\n"
   ]
  },
  {
   "cell_type": "code",
   "execution_count": null,
   "metadata": {},
   "outputs": [],
   "source": [
    "import re\n",
    "\n",
    "def parse_url(url):\n",
    "    pattern = re.compile(r'(https?://)([^/]+)(.*)')\n",
    "    match = pattern.match(url)\n",
    "    if match:\n",
    "        protocol, domain, path = match.groups()\n",
    "        return protocol, domain, path\n",
    "    else:\n",
    "        return None, None, None\n",
    "\n",
    "url = \"https://www.example.com/path/to/page\"\n",
    "protocol, domain, path = parse_url(url)\n",
    "if protocol and domain:\n",
    "    print(f\"Protocol: {protocol[:-3]}\")  # Removing '://'\n",
    "    print(f\"Domain: {domain}\")\n",
    "    print(f\"Path: {path}\")\n",
    "else:\n",
    "    print(\"Invalid URL\")\n"
   ]
  }
 ],
 "metadata": {
  "kernelspec": {
   "display_name": "Python 3",
   "language": "python",
   "name": "python3"
  },
  "language_info": {
   "codemirror_mode": {
    "name": "ipython",
    "version": 3
   },
   "file_extension": ".py",
   "mimetype": "text/x-python",
   "name": "python",
   "nbconvert_exporter": "python",
   "pygments_lexer": "ipython3",
   "version": "3.11.0"
  },
  "orig_nbformat": 4
 },
 "nbformat": 4,
 "nbformat_minor": 2
}
